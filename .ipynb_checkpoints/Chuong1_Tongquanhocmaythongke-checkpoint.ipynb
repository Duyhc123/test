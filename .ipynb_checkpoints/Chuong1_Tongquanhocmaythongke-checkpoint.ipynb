{
 "cells": [
  {
   "cell_type": "markdown",
   "id": "a29a4bd2",
   "metadata": {},
   "source": [
    "<center>\n",
    "    <h2> Chương 1: Tổng quan về học máy </h2>\n",
    "    </center>\n",
    "    \n",
    "**Nội dung chương 1:*\n",
    "1. Trí tuệ nhân tạo(Ai)\n",
    "2. Học máy(ML)\n",
    "3. Lịch sử và ứng dụng của học máy\n",
    "4. Phân loại các thuật toán học máy:\n",
    "    * Học có giám sát\n",
    "    * Học không giám sát\n",
    "    * Học bán giám sát\n",
    "    * Học củng cố\n",
    "5. Kiến thức và kỹ năng làm và học máy\n",
    "6. Chuẩn bị công cụ học tập\n",
    "\n",
    " *Sinh viên: Trần Mạnh Duy-2021050155*"
   ]
  },
  {
   "cell_type": "code",
   "execution_count": 5,
   "id": "ba2b1d6d",
   "metadata": {},
   "outputs": [
    {
     "name": "stdout",
     "output_type": "stream",
     "text": [
      "1. Version Pandas: 1.5.3\n"
     ]
    }
   ],
   "source": [
    "import pandas as pd\n",
    "print ('1. Version Pandas:', pd.__version__)"
   ]
  },
  {
   "cell_type": "code",
   "execution_count": 1,
   "id": "76faeabd",
   "metadata": {},
   "outputs": [
    {
     "name": "stdout",
     "output_type": "stream",
     "text": [
      "2. Version: 1.24.3\n"
     ]
    }
   ],
   "source": [
    "import numpy as np\n",
    "print('2. Version:' , np.__version__)"
   ]
  },
  {
   "cell_type": "code",
   "execution_count": 2,
   "id": "73e30296",
   "metadata": {},
   "outputs": [
    {
     "name": "stdout",
     "output_type": "stream",
     "text": [
      "3. Version Matplotlib: 3.7.1\n"
     ]
    }
   ],
   "source": [
    "import matplotlib as mpl\n",
    "print('3. Version Matplotlib:' , mpl.__version__)"
   ]
  },
  {
   "cell_type": "code",
   "execution_count": 4,
   "id": "302e3ce4",
   "metadata": {},
   "outputs": [
    {
     "name": "stdout",
     "output_type": "stream",
     "text": [
      "4. Version Sklearn: 1.3.0\n"
     ]
    }
   ],
   "source": [
    "import sklearn as sk\n",
    "print('4. Version Sklearn:' , sk.__version__)"
   ]
  },
  {
   "cell_type": "code",
   "execution_count": 1,
   "id": "2712196b",
   "metadata": {},
   "outputs": [
    {
     "name": "stdout",
     "output_type": "stream",
     "text": [
      "Welcome to hocmaythongke\n"
     ]
    }
   ],
   "source": [
    "print('Welcome to hocmaythongke')"
   ]
  },
  {
   "cell_type": "code",
   "execution_count": 2,
   "id": "f8e5d6ef",
   "metadata": {},
   "outputs": [
    {
     "name": "stdout",
     "output_type": "stream",
     "text": [
      "Chào bạn Duy Pass môn\n"
     ]
    }
   ],
   "source": [
    "name = ('Tran Manh Duy')\n",
    "print('Chào bạn', 'Duy', 'Pass môn')"
   ]
  },
  {
   "cell_type": "code",
   "execution_count": 3,
   "id": "771c1446",
   "metadata": {},
   "outputs": [
    {
     "name": "stdout",
     "output_type": "stream",
     "text": [
      "Hạnh phúc nằm trong lòng bàn tay\n",
      "Hạnh phúc nằm trong lòng bàn tay\n",
      "Hạnh phúc nằm trong lòng bàn tay\n",
      "Hạnh phúc nằm trong lòng bàn tay\n",
      "Hạnh phúc nằm trong lòng bàn tay\n",
      "Hạnh phúc nằm trong lòng bàn tay\n",
      "Hạnh phúc nằm trong lòng bàn tay\n",
      "Hạnh phúc nằm trong lòng bàn tay\n",
      "Hạnh phúc nằm trong lòng bàn tay\n"
     ]
    }
   ],
   "source": [
    "for i in range(1,10):\n",
    "    print('Hạnh phúc nằm trong lòng bàn tay')"
   ]
  }
 ],
 "metadata": {
  "kernelspec": {
   "display_name": "Python 3 (ipykernel)",
   "language": "python",
   "name": "python3"
  },
  "language_info": {
   "codemirror_mode": {
    "name": "ipython",
    "version": 3
   },
   "file_extension": ".py",
   "mimetype": "text/x-python",
   "name": "python",
   "nbconvert_exporter": "python",
   "pygments_lexer": "ipython3",
   "version": "3.11.4"
  }
 },
 "nbformat": 4,
 "nbformat_minor": 5
}
